{
  "nbformat": 4,
  "nbformat_minor": 0,
  "metadata": {
    "colab": {
      "provenance": [],
      "authorship_tag": "ABX9TyMMD0szakpmv2ebcGlltnve",
      "include_colab_link": true
    },
    "kernelspec": {
      "name": "python3",
      "display_name": "Python 3"
    },
    "language_info": {
      "name": "python"
    }
  },
  "cells": [
    {
      "cell_type": "markdown",
      "metadata": {
        "id": "view-in-github",
        "colab_type": "text"
      },
      "source": [
        "<a href=\"https://colab.research.google.com/github/jlenagana/CPEN-21A-PLD-1-1/blob/main/Nested_If_Else.ipynb\" target=\"_parent\"><img src=\"https://colab.research.google.com/assets/colab-badge.svg\" alt=\"Open In Colab\"/></a>"
      ]
    },
    {
      "cell_type": "markdown",
      "source": [
        "## Example 1 If Statement"
      ],
      "metadata": {
        "id": "Wkvyw1yLjljZ"
      }
    },
    {
      "cell_type": "code",
      "source": [
        "age=int(input(\"Please type your age: \"))\n",
        "if age>=18:\n",
        "  print(\"You are qualified to vote!\")\n",
        "if age<18:\n",
        "  print(\"You are not qualified to vote!\")"
      ],
      "metadata": {
        "colab": {
          "base_uri": "https://localhost:8080/"
        },
        "id": "R3FaTb5ujrmw",
        "outputId": "7b81cf7a-44b1-4d53-b778-237c7442e970"
      },
      "execution_count": null,
      "outputs": [
        {
          "output_type": "stream",
          "name": "stdout",
          "text": [
            "Please type your age: 18\n",
            "You are qualified to vote!\n"
          ]
        }
      ]
    },
    {
      "cell_type": "markdown",
      "source": [
        "## Example 1 If Elif Else"
      ],
      "metadata": {
        "id": "xGcUl2pzxzdC"
      }
    },
    {
      "cell_type": "code",
      "source": [
        "age=int(input(\"Please type your age: \"))\n",
        "if age>18:\n",
        "  print(\"You are qualified to vote!\")\n",
        "elif age<18:\n",
        "  print(\"You are NOT qualified to vote!\")\n",
        "else:\n",
        "  print(\"You are qualified to vote!\")"
      ],
      "metadata": {
        "colab": {
          "base_uri": "https://localhost:8080/"
        },
        "id": "evoWTsMCx9q2",
        "outputId": "27c2be3b-ad94-4ef8-8236-e918bd38d365"
      },
      "execution_count": null,
      "outputs": [
        {
          "output_type": "stream",
          "name": "stdout",
          "text": [
            "Please type your age: 18\n",
            "You are qualified to vote!\n"
          ]
        }
      ]
    },
    {
      "cell_type": "markdown",
      "source": [
        "## Example 1 Nested If"
      ],
      "metadata": {
        "id": "sGiAigFgHK4h"
      }
    },
    {
      "cell_type": "code",
      "source": [
        "age=int(input(\"Please type your age: \"))\n",
        "if age>18:\n",
        "  print(\"You are qualified to vote!\")\n",
        "  if age>21:\n",
        "    print(\"You're an adult, so you are qualified to vote!\")\n",
        "if age<18:\n",
        "  print(\"You are NOT qualified to vote!\")\n",
        "  if age<13:\n",
        "    print(\"You're too young, so you are NOT qualified to vote!\")\n",
        "else:\n",
        "  print(\"You reached 18 years old, so you are qualified to vote!\")"
      ],
      "metadata": {
        "colab": {
          "base_uri": "https://localhost:8080/"
        },
        "id": "fmxzR7lRHPOg",
        "outputId": "b7f1e55d-2366-4269-95bf-39f453196d93"
      },
      "execution_count": 60,
      "outputs": [
        {
          "output_type": "stream",
          "name": "stdout",
          "text": [
            "Please type your age: 18\n",
            "You reached 18 years old, so you are qualified to vote!\n"
          ]
        }
      ]
    },
    {
      "cell_type": "markdown",
      "source": [
        "## Example 2 If Statement"
      ],
      "metadata": {
        "id": "rI9VXRnqmAeZ"
      }
    },
    {
      "cell_type": "code",
      "source": [
        "number=float(input(\"Please type the number: \"))\n",
        "if number<0:\n",
        "  print(\"The number is Negative!\")\n",
        "if number>=0:\n",
        "  print (\"The number is Positive!\")"
      ],
      "metadata": {
        "colab": {
          "base_uri": "https://localhost:8080/"
        },
        "id": "5_0_vbpNmCZZ",
        "outputId": "87728e73-25e9-4466-c9af-92c2a0bb3483"
      },
      "execution_count": null,
      "outputs": [
        {
          "output_type": "stream",
          "name": "stdout",
          "text": [
            "Please type the number: 0\n",
            "The number is Positive!\n"
          ]
        }
      ]
    },
    {
      "cell_type": "markdown",
      "source": [
        "## Example 2 If Elif Else"
      ],
      "metadata": {
        "id": "26Or46mLpfjp"
      }
    },
    {
      "cell_type": "code",
      "source": [
        "number=float(input(\"Please type the number: \"))\n",
        "if number<0:\n",
        "  print(\"The number is Negative!\")\n",
        "elif number>0:\n",
        "  print(\"The number is Positive!\")\n",
        "else:\n",
        "  print(\"The number is Positive!\")"
      ],
      "metadata": {
        "id": "MrvLKcMPrR-l",
        "colab": {
          "base_uri": "https://localhost:8080/"
        },
        "outputId": "0e74ff40-f6c2-40e7-8587-9c357fc75f96"
      },
      "execution_count": null,
      "outputs": [
        {
          "output_type": "stream",
          "name": "stdout",
          "text": [
            "Please type the number: 0\n",
            "The number is Positive!\n"
          ]
        }
      ]
    },
    {
      "cell_type": "markdown",
      "source": [
        "## Example 2 Nested If"
      ],
      "metadata": {
        "id": "K9g3iDE_Ji5e"
      }
    },
    {
      "cell_type": "code",
      "source": [
        "number=float(input(\"Please type the number: \"))\n",
        "if number<0:\n",
        "  print(\"The number is Negative!\")\n",
        "  if number<0:\n",
        "    print(\"The number is less than zero, so its Negative!\")\n",
        "if number>0:\n",
        "  print(\"The number is Positive!\")\n",
        "  if number>1:\n",
        "    print(\"The number is morte than zero, so its Positive!\")\n",
        "else:\n",
        "  print(\"The number is zero, so it is considered as Positive!\")"
      ],
      "metadata": {
        "colab": {
          "base_uri": "https://localhost:8080/"
        },
        "id": "jzDgu2QmJmH1",
        "outputId": "c7bda01d-8aa6-4e7f-d22c-31cac59f2385"
      },
      "execution_count": null,
      "outputs": [
        {
          "output_type": "stream",
          "name": "stdout",
          "text": [
            "Please type the number: 1\n",
            "The number is Positive!\n"
          ]
        }
      ]
    },
    {
      "cell_type": "markdown",
      "source": [
        "## Example 3 If Statement"
      ],
      "metadata": {
        "id": "CKF6NkTIxly_"
      }
    },
    {
      "cell_type": "code",
      "source": [
        "grade=int(input(\"Please type your grade: \"))\n",
        "if grade>74 and grade<=100:\n",
        "  print(\"Passed\")\n",
        "if grade>-1 and grade<74:\n",
        "  print(\"Failed\")\n",
        "if grade==74:\n",
        "  print(\"Remedial\")\n",
        "if grade<0:\n",
        "  print(\"Your grade is not accepted!\")"
      ],
      "metadata": {
        "colab": {
          "base_uri": "https://localhost:8080/"
        },
        "id": "p59IucnsyDGN",
        "outputId": "47c62173-f0ec-4531-d757-e99fbe82f6d9"
      },
      "execution_count": null,
      "outputs": [
        {
          "output_type": "stream",
          "name": "stdout",
          "text": [
            "Please type your grade: -5\n",
            "Your grade is not accepted!\n"
          ]
        }
      ]
    },
    {
      "cell_type": "markdown",
      "source": [
        "## Example 3 If Elif Else"
      ],
      "metadata": {
        "id": "uJEhCOWR3isN"
      }
    },
    {
      "cell_type": "code",
      "source": [
        "grade=int(input(\"Please type your grade: \"))\n",
        "if grade>74:\n",
        "  print(\"Passed\")\n",
        "elif grade==74:\n",
        "  print(\"Remedial\")\n",
        "elif grade<0:\n",
        "  print(\"Your grade is not accepted!\")\n",
        "else:\n",
        "  print(\"Failed\")"
      ],
      "metadata": {
        "colab": {
          "base_uri": "https://localhost:8080/"
        },
        "id": "vluTY6kJ3ppb",
        "outputId": "afb8fce5-6195-42b4-da8b-d7d0618995ed"
      },
      "execution_count": null,
      "outputs": [
        {
          "output_type": "stream",
          "name": "stdout",
          "text": [
            "Please type your grade: -5\n",
            "Your grade is not accepted!\n"
          ]
        }
      ]
    },
    {
      "cell_type": "markdown",
      "source": [
        "## Nested if"
      ],
      "metadata": {
        "id": "vub6_NnO4Gpw"
      }
    },
    {
      "cell_type": "code",
      "source": [
        "grade=float(input(\"Please input your grade: \"))\n",
        "if grade>-1 and grade<=100:\n",
        "  if grade>74:\n",
        "    print(\"Passed!\")\n",
        "  if grade<74:\n",
        "    print(\"Failed!\")\n",
        "  if grade==74:\n",
        "    print(\"Remedial!\")\n",
        "else:\n",
        "  print(\"Your grade is not accepted!\")"
      ],
      "metadata": {
        "colab": {
          "base_uri": "https://localhost:8080/"
        },
        "id": "4iFi81rb4KTD",
        "outputId": "7c04f9ee-afc2-4b18-d87f-0f1f9f4e6f28"
      },
      "execution_count": null,
      "outputs": [
        {
          "output_type": "stream",
          "name": "stdout",
          "text": [
            "Please input your grade: -5\n",
            "Your grade is not accepted!\n"
          ]
        }
      ]
    }
  ]
}