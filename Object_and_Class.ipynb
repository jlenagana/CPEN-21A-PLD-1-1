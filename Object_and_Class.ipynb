{
  "nbformat": 4,
  "nbformat_minor": 0,
  "metadata": {
    "colab": {
      "provenance": [],
      "authorship_tag": "ABX9TyOBTxtXN3pvP2VswE1H0wHx",
      "include_colab_link": true
    },
    "kernelspec": {
      "name": "python3",
      "display_name": "Python 3"
    },
    "language_info": {
      "name": "python"
    }
  },
  "cells": [
    {
      "cell_type": "markdown",
      "metadata": {
        "id": "view-in-github",
        "colab_type": "text"
      },
      "source": [
        "<a href=\"https://colab.research.google.com/github/jlenagana/CPEN-21A-PLD-1-1/blob/main/Object_and_Class.ipynb\" target=\"_parent\"><img src=\"https://colab.research.google.com/assets/colab-badge.svg\" alt=\"Open In Colab\"/></a>"
      ]
    },
    {
      "cell_type": "markdown",
      "source": [
        "# Introduction to OOP (Object Oriented Programming)"
      ],
      "metadata": {
        "id": "_RSP7pOVp87X"
      }
    },
    {
      "cell_type": "code",
      "source": [
        "#Creating Class\n",
        "\n",
        "class Person:                               #Creating class named as Person\n",
        "  def __init__(self,name,age):\n",
        "    self.name = name\n",
        "    self.age = age\n",
        "\n",
        "person = Person(\"Noctis\",18)                #Creating object name person\n",
        "print(\"My name is\",person.name)\n",
        "print(\"My age is\",person.age)\n",
        "\n",
        "class Student(Person):\n",
        "  pass\n",
        "\n",
        "person2 = Student(\"Lars\",19)\n",
        "print(person2.name)\n",
        "print(person2.age)"
      ],
      "metadata": {
        "colab": {
          "base_uri": "https://localhost:8080/"
        },
        "id": "RJjqJR6SqFcj",
        "outputId": "c8b5b73e-4727-49a4-8f19-ff3e501403dc"
      },
      "execution_count": null,
      "outputs": [
        {
          "output_type": "stream",
          "name": "stdout",
          "text": [
            "My name is Noctis\n",
            "My age is 18\n",
            "Lars\n",
            "19\n"
          ]
        }
      ]
    },
    {
      "cell_type": "markdown",
      "source": [
        "#Application 1 (Activity)"
      ],
      "metadata": {
        "id": "rIbl37Q3vMZ_"
      }
    },
    {
      "cell_type": "code",
      "source": [
        "class Shape:\n",
        "  def __init__(shape, area, perimeter):\n",
        "    shape.area = area\n",
        "    shape.perimeter = perimeter\n",
        "\n",
        "shape = Shape(50,40)\n",
        "print(\"The area of the shape is\", shape.area)\n",
        "print(\"The perimeter of the shape is\", shape.perimeter)\n",
        "\n",
        "class Square(Shape):\n",
        "  pass\n",
        "\n",
        "shape1 = Square (200,80)\n",
        "print(\"The area of the square is\", shape1.area)\n",
        "print(\"The perimeter of the square is\", shape1.perimeter)"
      ],
      "metadata": {
        "id": "SXcm9cj2v12l",
        "colab": {
          "base_uri": "https://localhost:8080/"
        },
        "outputId": "244caf3e-f6c8-4e8f-c379-5df227dcfa71"
      },
      "execution_count": 6,
      "outputs": [
        {
          "output_type": "stream",
          "name": "stdout",
          "text": [
            "The area of the shape is 50\n",
            "The perimeter of the shape is 40\n",
            "The area of the square is 200\n",
            "The perimeter of the square is 80\n"
          ]
        }
      ]
    }
  ]
}