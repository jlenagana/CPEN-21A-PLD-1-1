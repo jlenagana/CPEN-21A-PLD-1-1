{
  "nbformat": 4,
  "nbformat_minor": 0,
  "metadata": {
    "colab": {
      "provenance": [],
      "authorship_tag": "ABX9TyOJpvU+NM3NnfRgX0AZtSPV",
      "include_colab_link": true
    },
    "kernelspec": {
      "name": "python3",
      "display_name": "Python 3"
    },
    "language_info": {
      "name": "python"
    }
  },
  "cells": [
    {
      "cell_type": "markdown",
      "metadata": {
        "id": "view-in-github",
        "colab_type": "text"
      },
      "source": [
        "<a href=\"https://colab.research.google.com/github/jlenagana/CPEN-21A-PLD-1-1/blob/main/Python_as_a_Function.ipynb\" target=\"_parent\"><img src=\"https://colab.research.google.com/assets/colab-badge.svg\" alt=\"Open In Colab\"/></a>"
      ]
    },
    {
      "cell_type": "markdown",
      "source": [
        "#Function Calls"
      ],
      "metadata": {
        "id": "tE2-iuuyiqmU"
      }
    },
    {
      "cell_type": "code",
      "source": [
        "abs(-10.3)"
      ],
      "metadata": {
        "id": "2H_b2v9kiwAj"
      },
      "execution_count": null,
      "outputs": []
    },
    {
      "cell_type": "markdown",
      "source": [
        "#Function calls another function"
      ],
      "metadata": {
        "id": "fy9qnOvIi6wT"
      }
    },
    {
      "cell_type": "code",
      "execution_count": 4,
      "metadata": {
        "colab": {
          "base_uri": "https://localhost:8080/"
        },
        "id": "Wm_IJeidhs8T",
        "outputId": "f509c291-065f-441d-86c7-a04992d773c7"
      },
      "outputs": [
        {
          "output_type": "execute_result",
          "data": {
            "text/plain": [
              "1024"
            ]
          },
          "metadata": {},
          "execution_count": 4
        }
      ],
      "source": [
        "pow(abs(-2),round (10.5))   #pow(2,4)"
      ]
    },
    {
      "cell_type": "markdown",
      "source": [
        "#Type code function"
      ],
      "metadata": {
        "id": "_G3MrDmjjS8K"
      }
    },
    {
      "cell_type": "code",
      "source": [
        "int(10.5)\n",
        "float(10)"
      ],
      "metadata": {
        "colab": {
          "base_uri": "https://localhost:8080/"
        },
        "id": "Ri7IRw4MiGys",
        "outputId": "24fe2d3b-35fc-4a54-d92b-7d46a5f481e1"
      },
      "execution_count": 3,
      "outputs": [
        {
          "output_type": "execute_result",
          "data": {
            "text/plain": [
              "10.0"
            ]
          },
          "metadata": {},
          "execution_count": 3
        }
      ]
    },
    {
      "cell_type": "markdown",
      "source": [
        "#Defining own function"
      ],
      "metadata": {
        "id": "6b-FObJlj-3r"
      }
    },
    {
      "cell_type": "code",
      "source": [
        "def convert_to_celsius(fahrenheit):\n",
        "  celsius = (fahrenheit-32)*5/9\n",
        "  return celsius\n",
        "\n",
        "fahrenheit = float(input(\"Enter a number in Fahrenheit: \"))\n",
        "\n",
        "f=convert_to_celsius(fahrenheit)\n",
        "\n",
        "print(round(f,2))"
      ],
      "metadata": {
        "colab": {
          "base_uri": "https://localhost:8080/"
        },
        "id": "wsfAQizokBn_",
        "outputId": "229a4436-393a-4f9c-90ab-874243a51fc0"
      },
      "execution_count": 33,
      "outputs": [
        {
          "output_type": "stream",
          "name": "stdout",
          "text": [
            "Enter a number in Fahrenheit: 10\n",
            "-12.22\n"
          ]
        }
      ]
    },
    {
      "cell_type": "markdown",
      "source": [
        "#Excercise"
      ],
      "metadata": {
        "id": "4SvFjsunvYOA"
      }
    },
    {
      "cell_type": "code",
      "source": [
        "print(min(2,3,4))\n",
        "\n",
        "print(max(2,-3,4,7))\n",
        "\n",
        "print(max(2,-3, min(4,7),-5))"
      ],
      "metadata": {
        "colab": {
          "base_uri": "https://localhost:8080/"
        },
        "id": "MAwAhqAlvadn",
        "outputId": "698d1aa8-bf3e-4926-a42e-6a38d1421b01"
      },
      "execution_count": 37,
      "outputs": [
        {
          "output_type": "stream",
          "name": "stdout",
          "text": [
            "2\n",
            "7\n",
            "4\n"
          ]
        }
      ]
    }
  ]
}