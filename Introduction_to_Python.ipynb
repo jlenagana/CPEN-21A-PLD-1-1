{
  "nbformat": 4,
  "nbformat_minor": 0,
  "metadata": {
    "colab": {
      "provenance": [],
      "collapsed_sections": [],
      "authorship_tag": "ABX9TyPRp/B6Jdzzf5c/bAnMnOQD",
      "include_colab_link": true
    },
    "kernelspec": {
      "name": "python3",
      "display_name": "Python 3"
    },
    "language_info": {
      "name": "python"
    }
  },
  "cells": [
    {
      "cell_type": "markdown",
      "metadata": {
        "id": "view-in-github",
        "colab_type": "text"
      },
      "source": [
        "<a href=\"https://colab.research.google.com/github/jlenagana/CPEN-21A-PLD-1-1/blob/main/Introduction_to_Python.ipynb\" target=\"_parent\"><img src=\"https://colab.research.google.com/assets/colab-badge.svg\" alt=\"Open In Colab\"/></a>"
      ]
    },
    {
      "cell_type": "markdown",
      "source": [
        "#Indentation\n"
      ],
      "metadata": {
        "id": "qKfFKLX8VWQz"
      }
    },
    {
      "cell_type": "code",
      "source": [
        "if 6>3:\n",
        "  print (\"6 is greater than 3\")   #This is a comment"
      ],
      "metadata": {
        "colab": {
          "base_uri": "https://localhost:8080/"
        },
        "id": "q52xjlkzVfut",
        "outputId": "26b04142-8ea7-4b37-e8a2-3e4aa1ba0235"
      },
      "execution_count": 1,
      "outputs": [
        {
          "output_type": "stream",
          "name": "stdout",
          "text": [
            "6 is greater than 3\n"
          ]
        }
      ]
    },
    {
      "cell_type": "markdown",
      "source": [
        "#Variable Declaration"
      ],
      "metadata": {
        "id": "IdfJGvC7V9Wp"
      }
    },
    {
      "cell_type": "code",
      "source": [
        "#Varibable with a single value\n",
        "\n",
        "x=55\n",
        "y=60\n",
        "if x<y:\n",
        "  print(\"x is less than y\")\n",
        "else:\n",
        "  print(\"y is greater than x\")\n",
        "\n",
        "#Variable with multiple values\n",
        "\n",
        "h,i=25,50\n",
        "print(\"The value of h is:\",h)\n",
        "print(\"The value of i is:\",i)\n",
        "\n",
        "#Multiple variables with a single value\n",
        "\n",
        "l=e=n=\"Sana\"\n",
        "print(l)\n",
        "print(e)\n",
        "print(n)"
      ],
      "metadata": {
        "colab": {
          "base_uri": "https://localhost:8080/"
        },
        "id": "WGyKhZ2oWtPp",
        "outputId": "9009e5b0-ce51-4283-8e79-62875b4920f2"
      },
      "execution_count": 14,
      "outputs": [
        {
          "output_type": "stream",
          "name": "stdout",
          "text": [
            "x is less than y\n",
            "The value of h is: 25\n",
            "The value of i is: 50\n",
            "Sana\n",
            "Sana\n",
            "Sana\n"
          ]
        }
      ]
    },
    {
      "cell_type": "markdown",
      "source": [
        "Casting and Type () Function"
      ],
      "metadata": {
        "id": "KIlRF4D4a7Kq"
      }
    },
    {
      "cell_type": "code",
      "source": [
        "e=int(1)\n",
        "l=float(4)\n",
        "\n",
        "print(e)\n",
        "print(l)\n",
        "\n",
        "print (type(e))\n",
        "print (type(l))\n"
      ],
      "metadata": {
        "colab": {
          "base_uri": "https://localhost:8080/"
        },
        "id": "tFzLn_Nsa8pg",
        "outputId": "0056c058-39bb-4e44-97a8-1e7a0a280cec"
      },
      "execution_count": 25,
      "outputs": [
        {
          "output_type": "stream",
          "name": "stdout",
          "text": [
            "1\n",
            "4.0\n",
            "<class 'int'>\n",
            "<class 'float'>\n"
          ]
        }
      ]
    },
    {
      "cell_type": "markdown",
      "source": [
        "Double quote or Single quote"
      ],
      "metadata": {
        "id": "eSK29kykbm6h"
      }
    },
    {
      "cell_type": "code",
      "source": [
        "name=\"Jlen\"\n",
        "surname='Agana'\n",
        "\n",
        "print(name)\n",
        "print(surname)"
      ],
      "metadata": {
        "colab": {
          "base_uri": "https://localhost:8080/"
        },
        "id": "sNq1cJ05bqv5",
        "outputId": "ea8c89f8-7543-4aba-9c28-b3005bdc17d1"
      },
      "execution_count": 23,
      "outputs": [
        {
          "output_type": "stream",
          "name": "stdout",
          "text": [
            "Jlen\n",
            "Agana\n"
          ]
        }
      ]
    },
    {
      "cell_type": "markdown",
      "source": [
        "Case Sensitive"
      ],
      "metadata": {
        "id": "YixcGesFcIs-"
      }
    },
    {
      "cell_type": "code",
      "source": [
        "e=\"Ella\"\n",
        "print(e)"
      ],
      "metadata": {
        "colab": {
          "base_uri": "https://localhost:8080/"
        },
        "id": "jY1uopuUcLN2",
        "outputId": "09283f50-6c9a-4a48-dc0c-689439a878a2"
      },
      "execution_count": 13,
      "outputs": [
        {
          "output_type": "stream",
          "name": "stdout",
          "text": [
            "Ella\n"
          ]
        }
      ]
    },
    {
      "cell_type": "markdown",
      "source": [
        "Output Variable"
      ],
      "metadata": {
        "id": "ypYkcm18eBVX"
      }
    },
    {
      "cell_type": "code",
      "source": [
        "j=\"Can I court you,\"\n",
        "l=\"Ella?\"\n",
        "print (j,l)"
      ],
      "metadata": {
        "colab": {
          "base_uri": "https://localhost:8080/"
        },
        "id": "oCGTvmd4eF77",
        "outputId": "15886239-01f4-4dbc-a63f-d119f85c1ef4"
      },
      "execution_count": 26,
      "outputs": [
        {
          "output_type": "stream",
          "name": "stdout",
          "text": [
            "Can I court you, Ella?\n"
          ]
        }
      ]
    }
  ]
}