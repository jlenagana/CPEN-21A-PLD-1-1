{
  "nbformat": 4,
  "nbformat_minor": 0,
  "metadata": {
    "colab": {
      "provenance": [],
      "authorship_tag": "ABX9TyOBL2Q23bPfKnHFF6Dm/MT0",
      "include_colab_link": true
    },
    "kernelspec": {
      "name": "python3",
      "display_name": "Python 3"
    },
    "language_info": {
      "name": "python"
    }
  },
  "cells": [
    {
      "cell_type": "markdown",
      "metadata": {
        "id": "view-in-github",
        "colab_type": "text"
      },
      "source": [
        "<a href=\"https://colab.research.google.com/github/jlenagana/CPEN-21A-PLD-1-1/blob/main/Operations_and_Expressions_in_Python.ipynb\" target=\"_parent\"><img src=\"https://colab.research.google.com/assets/colab-badge.svg\" alt=\"Open In Colab\"/></a>"
      ]
    },
    {
      "cell_type": "markdown",
      "source": [
        "##Boolean Operations"
      ],
      "metadata": {
        "id": "_roOJYXqrNhj"
      }
    },
    {
      "cell_type": "code",
      "execution_count": 5,
      "metadata": {
        "colab": {
          "base_uri": "https://localhost:8080/"
        },
        "id": "T6TENs-Kqeqe",
        "outputId": "1eb59ce4-20bf-4e2c-b425-5e0ab20e3e82"
      },
      "outputs": [
        {
          "output_type": "stream",
          "name": "stdout",
          "text": [
            "True\n"
          ]
        }
      ],
      "source": [
        "a=1\n",
        "b=4\n",
        "c=3\n",
        "print(b>a)"
      ]
    },
    {
      "cell_type": "code",
      "source": [
        "print(bool(\"Hello\"))\n",
        "print(bool(15))\n",
        "print(bool(True))\n",
        "print(bool(False))\n",
        "print (bool(1))\n",
        "print(bool(0))\n",
        "print(bool(None))\n",
        "print(bool([]))"
      ],
      "metadata": {
        "colab": {
          "base_uri": "https://localhost:8080/"
        },
        "id": "gYEmtc_2su8p",
        "outputId": "a071dd14-bd9e-4dae-ee40-6f735b16181c"
      },
      "execution_count": 15,
      "outputs": [
        {
          "output_type": "stream",
          "name": "stdout",
          "text": [
            "True\n",
            "True\n",
            "True\n",
            "False\n",
            "True\n",
            "False\n",
            "False\n",
            "False\n"
          ]
        }
      ]
    },
    {
      "cell_type": "code",
      "source": [
        "def myFunction():return True\n",
        "print(myFunction())\n"
      ],
      "metadata": {
        "colab": {
          "base_uri": "https://localhost:8080/"
        },
        "id": "lAfWEoR1trT3",
        "outputId": "3248f1c0-696c-4a48-c502-f97d3a35b069"
      },
      "execution_count": 21,
      "outputs": [
        {
          "output_type": "stream",
          "name": "stdout",
          "text": [
            "True\n"
          ]
        }
      ]
    },
    {
      "cell_type": "code",
      "source": [
        "def myFunction():return True\n",
        "\n",
        "if myFunction():\n",
        "  print(\"True\")\n",
        "else:\n",
        "  print(\"False\")"
      ],
      "metadata": {
        "colab": {
          "base_uri": "https://localhost:8080/"
        },
        "id": "b65am0mLuidd",
        "outputId": "1c3916ec-19ef-4ba6-a68a-bb20fa7f6d18"
      },
      "execution_count": 25,
      "outputs": [
        {
          "output_type": "stream",
          "name": "stdout",
          "text": [
            "Yes\n"
          ]
        }
      ]
    },
    {
      "cell_type": "code",
      "source": [
        "I=1\n",
        "L=4\n",
        "Y=3\n",
        "print(I<L)\n",
        "print(Y==Y)\n",
        "print(I!=I)"
      ],
      "metadata": {
        "colab": {
          "base_uri": "https://localhost:8080/"
        },
        "id": "XVimfeu5vZUb",
        "outputId": "38346416-196e-4c0c-cfda-ae31a6159de3"
      },
      "execution_count": 33,
      "outputs": [
        {
          "output_type": "stream",
          "name": "stdout",
          "text": [
            "True\n",
            "True\n",
            "False\n"
          ]
        }
      ]
    },
    {
      "cell_type": "markdown",
      "source": [
        "##Python Operators"
      ],
      "metadata": {
        "id": "A7yAMkmdwnDI"
      }
    },
    {
      "cell_type": "code",
      "source": [
        "print(14+3)\n",
        "print(14-3)\n",
        "print(14*3)\n",
        "print(14/3)\n",
        "print(14%3)\n",
        "print(14//3)\n",
        "print(14**3)"
      ],
      "metadata": {
        "colab": {
          "base_uri": "https://localhost:8080/"
        },
        "id": "lHFZxwWJwXUK",
        "outputId": "a3825402-61e8-4afe-d55e-478a0bfa8dae"
      },
      "execution_count": 42,
      "outputs": [
        {
          "output_type": "stream",
          "name": "stdout",
          "text": [
            "17\n",
            "11\n",
            "42\n",
            "4.666666666666667\n",
            "2\n",
            "4\n",
            "2744\n"
          ]
        }
      ]
    },
    {
      "cell_type": "markdown",
      "source": [
        "##Bitwise Operators"
      ],
      "metadata": {
        "id": "oDcV6h4eyfkA"
      }
    },
    {
      "cell_type": "code",
      "source": [
        "a=1 #0000 0001\n",
        "b=4 #0000 0100\n",
        "c=3 #0000 0011\n",
        "\n",
        "print(a^b)\n",
        "print(~a)\n",
        "print(a<<2)\n",
        "print(b>>2)"
      ],
      "metadata": {
        "colab": {
          "base_uri": "https://localhost:8080/"
        },
        "id": "401pf3qEykGF",
        "outputId": "f6301503-c581-45e3-b716-6792f9014bd8"
      },
      "execution_count": 49,
      "outputs": [
        {
          "output_type": "stream",
          "name": "stdout",
          "text": [
            "5\n",
            "-2\n",
            "4\n",
            "1\n"
          ]
        }
      ]
    },
    {
      "cell_type": "markdown",
      "source": [
        "##Assignment Operators"
      ],
      "metadata": {
        "id": "wC8Kj0g22dni"
      }
    },
    {
      "cell_type": "code",
      "source": [
        "x=2\n",
        "x+=3 #Same As x = x + 3\n",
        "print(x)\n",
        "\n",
        "x"
      ],
      "metadata": {
        "colab": {
          "base_uri": "https://localhost:8080/"
        },
        "id": "uDkqMyxT2gn_",
        "outputId": "ea4a0182-397a-468d-964c-a2b8fdf01796"
      },
      "execution_count": 54,
      "outputs": [
        {
          "output_type": "stream",
          "name": "stdout",
          "text": [
            "5\n"
          ]
        },
        {
          "output_type": "execute_result",
          "data": {
            "text/plain": [
              "5"
            ]
          },
          "metadata": {},
          "execution_count": 54
        }
      ]
    },
    {
      "cell_type": "markdown",
      "source": [
        "##Logical Operators"
      ],
      "metadata": {
        "id": "vpIqFElf4j0u"
      }
    },
    {
      "cell_type": "code",
      "source": [
        "i=1\n",
        "l=4\n",
        "\n",
        "print(i>l and a==a)\n",
        "print(i<l or l==l)"
      ],
      "metadata": {
        "colab": {
          "base_uri": "https://localhost:8080/"
        },
        "id": "wWeZ9EV24neC",
        "outputId": "8273dc04-01e1-43b8-ce82-d0dd67fdb20a"
      },
      "execution_count": 64,
      "outputs": [
        {
          "output_type": "stream",
          "name": "stdout",
          "text": [
            "False\n",
            "True\n"
          ]
        }
      ]
    },
    {
      "cell_type": "markdown",
      "source": [
        "##Identity Operator"
      ],
      "metadata": {
        "id": "G69rijq46R8L"
      }
    },
    {
      "cell_type": "code",
      "source": [
        "print(i is b)\n",
        "print(i is not b)"
      ],
      "metadata": {
        "colab": {
          "base_uri": "https://localhost:8080/"
        },
        "id": "RJVsOE0x6V0x",
        "outputId": "2c139263-0d47-4eb3-af3a-ac67a0292641"
      },
      "execution_count": 68,
      "outputs": [
        {
          "output_type": "stream",
          "name": "stdout",
          "text": [
            "False\n",
            "True\n"
          ]
        }
      ]
    }
  ]
}