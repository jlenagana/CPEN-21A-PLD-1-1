{
  "nbformat": 4,
  "nbformat_minor": 0,
  "metadata": {
    "colab": {
      "provenance": [],
      "authorship_tag": "ABX9TyO34kJf1lrkGMAcyBdyqdMY",
      "include_colab_link": true
    },
    "kernelspec": {
      "name": "python3",
      "display_name": "Python 3"
    },
    "language_info": {
      "name": "python"
    }
  },
  "cells": [
    {
      "cell_type": "markdown",
      "metadata": {
        "id": "view-in-github",
        "colab_type": "text"
      },
      "source": [
        "<a href=\"https://colab.research.google.com/github/jlenagana/CPEN-21A-PLD-1-1/blob/main/List_and_Set_Dictionaries.ipynb\" target=\"_parent\"><img src=\"https://colab.research.google.com/assets/colab-badge.svg\" alt=\"Open In Colab\"/></a>"
      ]
    },
    {
      "cell_type": "code",
      "execution_count": null,
      "metadata": {
        "id": "CNdadrp2NioS",
        "outputId": "a72eed90-8315-4e12-8237-b74da0a90c90",
        "colab": {
          "base_uri": "https://localhost:8080/"
        }
      },
      "outputs": [
        {
          "output_type": "stream",
          "name": "stdout",
          "text": [
            "A\n",
            "Hello\n",
            "Hello\n"
          ]
        }
      ],
      "source": [
        "#List\n",
        "\n",
        "pi = 3.14159\n",
        "VarList = [1, 2, \"A\", \"B\", \"Hello\", pi]\n",
        "print(VarList[2])\n",
        "\n",
        "VarList.append(\"Hello\")\n",
        "print(VarList[6])\n",
        "\n",
        "len(VarList)\n",
        "\n",
        "VarList.remove (pi)\n",
        "print (VarList[4])"
      ]
    },
    {
      "cell_type": "code",
      "source": [
        "#Dictionaries\n",
        "\n",
        "var = \"Hello World\"\n",
        "varDict = {'first' : 123, 2 : 'abc', '3' : var, 4 : ['lista', 'listb']}\n",
        "print(varDict[\"first\"])\n",
        "print(varDict[2])\n",
        "print(varDict['3'])\n",
        "print(varDict[4])\n",
        "print(varDict[4][1])\n",
        "len(varDict)"
      ],
      "metadata": {
        "colab": {
          "base_uri": "https://localhost:8080/"
        },
        "id": "sdGgBLglOsQl",
        "outputId": "7d676f28-8285-4c51-bf35-b50f2c5244f0"
      },
      "execution_count": null,
      "outputs": [
        {
          "output_type": "stream",
          "name": "stdout",
          "text": [
            "123\n",
            "abc\n",
            "Hello World\n",
            "['lista', 'listb']\n",
            "listb\n"
          ]
        },
        {
          "output_type": "execute_result",
          "data": {
            "text/plain": [
              "4"
            ]
          },
          "metadata": {},
          "execution_count": 10
        }
      ]
    },
    {
      "cell_type": "code",
      "source": [
        "#List Generators and Comprehension\n",
        "\n",
        "Varlist = [0, 1, 2, 3, 4]\n",
        "print(Varlist)\n",
        "Varlist = [0,2,4]\n",
        "print([var for var in Varlist])\n",
        "\n",
        "def gen_num_up_to(n):\n",
        "  num=(0)\n",
        "  while num<n:\n",
        "    yield num\n",
        "    num +=2\n",
        "\n",
        "Varlist = gen_num_up_to(4)\n",
        "print ([var for var in Varlist])\n"
      ],
      "metadata": {
        "colab": {
          "base_uri": "https://localhost:8080/"
        },
        "id": "3LIJJQIvQb2T",
        "outputId": "003d64f7-e7a0-4cd2-add1-2d95629a19f2"
      },
      "execution_count": null,
      "outputs": [
        {
          "output_type": "stream",
          "name": "stdout",
          "text": [
            "[0, 1, 2, 3, 4]\n",
            "[0, 2, 4]\n",
            "[0, 2]\n"
          ]
        }
      ]
    },
    {
      "cell_type": "code",
      "source": [
        "#Slicing\n",
        "VarList = [1, 2, 3, 4, 5 ,6 ,7 ,8, 9, 10]\n",
        "print(VarList[:5])\n",
        "print(VarList[5:])\n",
        "print(VarList[:-2])\n",
        "print(VarList[-2:])\n",
        "print(VarList[2:-2])\n",
        "print(VarList[2:8:2])"
      ],
      "metadata": {
        "colab": {
          "base_uri": "https://localhost:8080/"
        },
        "id": "2jJGkPN3SeQV",
        "outputId": "c2cf8e99-da14-4f24-c3e6-189563dd8089"
      },
      "execution_count": null,
      "outputs": [
        {
          "output_type": "stream",
          "name": "stdout",
          "text": [
            "[1, 2, 3, 4, 5]\n",
            "[6, 7, 8, 9, 10]\n",
            "[1, 2, 3, 4, 5, 6, 7, 8]\n",
            "[9, 10]\n",
            "[3, 4, 5, 6, 7, 8]\n",
            "[3, 5, 7]\n"
          ]
        }
      ]
    }
  ]
}