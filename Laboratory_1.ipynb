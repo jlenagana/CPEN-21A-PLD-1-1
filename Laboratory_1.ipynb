{
  "nbformat": 4,
  "nbformat_minor": 0,
  "metadata": {
    "colab": {
      "provenance": [],
      "authorship_tag": "ABX9TyMC+zkKizTsGoiAAfPGsUim",
      "include_colab_link": true
    },
    "kernelspec": {
      "name": "python3",
      "display_name": "Python 3"
    },
    "language_info": {
      "name": "python"
    }
  },
  "cells": [
    {
      "cell_type": "markdown",
      "metadata": {
        "id": "view-in-github",
        "colab_type": "text"
      },
      "source": [
        "<a href=\"https://colab.research.google.com/github/jlenagana/CPEN-21A-PLD-1-1/blob/main/Laboratory_1.ipynb\" target=\"_parent\"><img src=\"https://colab.research.google.com/assets/colab-badge.svg\" alt=\"Open In Colab\"/></a>"
      ]
    },
    {
      "cell_type": "markdown",
      "source": [
        "# Problem 1"
      ],
      "metadata": {
        "id": "RKTIAKpWLfeu"
      }
    },
    {
      "cell_type": "code",
      "source": [
        "n=20\n",
        "totalnumbers=n\n",
        "sum=0\n",
        "average=0\n",
        "\n",
        "while n>=0:\n",
        "  sum+=n\n",
        "  n-=1\n",
        "else:\n",
        "  print(\"sum\", sum)\n",
        "average=sum/totalnumbers\n",
        "print(\"average\",average)"
      ],
      "metadata": {
        "colab": {
          "base_uri": "https://localhost:8080/"
        },
        "id": "Rhi97MveLh3D",
        "outputId": "25e8ff6d-45bd-43b5-b323-2e8b3f89f635"
      },
      "execution_count": 51,
      "outputs": [
        {
          "output_type": "stream",
          "name": "stdout",
          "text": [
            "sum 210\n",
            "average 10.5\n"
          ]
        }
      ]
    },
    {
      "cell_type": "markdown",
      "source": [
        "# Problem 2"
      ],
      "metadata": {
        "id": "sWPi6Zr0RWuZ"
      }
    },
    {
      "cell_type": "code",
      "source": [
        "class Student:\n",
        "  def __init__(Myself, Name ,Student_No, Age, School, Course):\n",
        "    Myself.Name = Name\n",
        "    Myself.Student_No = Student_No\n",
        "    Myself.Age = Age\n",
        "    Myself.School = School\n",
        "    Myself.Course = Course\n",
        "\n",
        "Myself = Student('Jlen Agana' ,202203915 ,18 ,'Cavite State University - Main Campus' ,'Bachelor of Science in Computer Engineering')\n",
        "print(\"My name is\",Myself.Name)\n",
        "print(\"My Student Number is\",Myself.Student_No)\n",
        "print(\"I am\",Myself.Age,\"years old\")\n",
        "print(\"I am currently studying at\", Myself.School)\n",
        "print(\"I am currently taking\",Myself.Course)"
      ],
      "metadata": {
        "colab": {
          "base_uri": "https://localhost:8080/"
        },
        "id": "Zr02XDTZRYbf",
        "outputId": "2a4d478d-e27b-4e75-ce47-2030509b5630"
      },
      "execution_count": 50,
      "outputs": [
        {
          "output_type": "stream",
          "name": "stdout",
          "text": [
            "My name is Jlen Agana\n",
            "My Student Number is 202203915\n",
            "I am 18 years old\n",
            "I am currently studying at Cavite State University - Main Campus\n",
            "I am currently taking Bachelor of Science in Computer Engineering\n"
          ]
        }
      ]
    }
  ]
}